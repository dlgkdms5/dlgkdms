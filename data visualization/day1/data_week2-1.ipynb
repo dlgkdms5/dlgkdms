{
  "nbformat": 4,
  "nbformat_minor": 0,
  "metadata": {
    "colab": {
      "provenance": []
    },
    "kernelspec": {
      "name": "python3",
      "display_name": "Python 3"
    },
    "language_info": {
      "name": "python"
    }
  },
  "cells": [
    {
      "cell_type": "markdown",
      "source": [
        "## 반복문 for"
      ],
      "metadata": {
        "id": "qlZbcw9fmqsL"
      }
    },
    {
      "cell_type": "code",
      "execution_count": 2,
      "metadata": {
        "colab": {
          "base_uri": "https://localhost:8080/"
        },
        "id": "WJjAdlIRmSxM",
        "outputId": "60b16997-9e34-430e-a1bf-204c07cf6037"
      },
      "outputs": [
        {
          "output_type": "execute_result",
          "data": {
            "text/plain": [
              "240"
            ]
          },
          "metadata": {},
          "execution_count": 2
        }
      ],
      "source": [
        "score=[85,70,95,85]\n",
        "total=0\n",
        "total=score[0]+score[1]+score[3]\n",
        "total"
      ]
    },
    {
      "cell_type": "code",
      "source": [
        "score=[85,70,95,85]\n",
        "total = 0\n",
        "for s in score:\n",
        "  total = total+s\n",
        "total"
      ],
      "metadata": {
        "colab": {
          "base_uri": "https://localhost:8080/"
        },
        "id": "i1-cggTWnsiz",
        "outputId": "e769ac21-cbcc-4f9b-a36f-62121209ac86"
      },
      "execution_count": 6,
      "outputs": [
        {
          "output_type": "execute_result",
          "data": {
            "text/plain": [
              "335"
            ]
          },
          "metadata": {},
          "execution_count": 6
        }
      ]
    },
    {
      "cell_type": "code",
      "source": [
        "test=[10,20,30,40,50]\n",
        "for i in test:\n",
        "  print(i)"
      ],
      "metadata": {
        "colab": {
          "base_uri": "https://localhost:8080/"
        },
        "id": "TaK1dFkUoiRt",
        "outputId": "f8ee3b52-7f12-4b84-ae0a-137b29ee993d"
      },
      "execution_count": 7,
      "outputs": [
        {
          "output_type": "stream",
          "name": "stdout",
          "text": [
            "10\n",
            "20\n",
            "30\n",
            "40\n",
            "50\n"
          ]
        }
      ]
    },
    {
      "cell_type": "code",
      "source": [
        "test=[10,20,30,40,50]\n",
        "total=0\n",
        "for i in test:\n",
        "  print(i)\n",
        "  total=total+i\n",
        "print(total)"
      ],
      "metadata": {
        "colab": {
          "base_uri": "https://localhost:8080/"
        },
        "id": "WB4UWQRFpt5U",
        "outputId": "07198b88-cef9-4ea5-ac1e-7ec8bf0d7682"
      },
      "execution_count": 8,
      "outputs": [
        {
          "output_type": "stream",
          "name": "stdout",
          "text": [
            "10\n",
            "20\n",
            "30\n",
            "40\n",
            "50\n",
            "150\n"
          ]
        }
      ]
    },
    {
      "cell_type": "code",
      "source": [
        "for a in \"hello\":\n",
        "  print(a)"
      ],
      "metadata": {
        "colab": {
          "base_uri": "https://localhost:8080/"
        },
        "id": "2S71eG4-qnAv",
        "outputId": "0708194d-dfe6-4692-dbe0-febc44f9f2dd"
      },
      "execution_count": 9,
      "outputs": [
        {
          "output_type": "stream",
          "name": "stdout",
          "text": [
            "h\n",
            "e\n",
            "l\n",
            "l\n",
            "o\n"
          ]
        }
      ]
    },
    {
      "cell_type": "code",
      "source": [
        "total=0\n",
        "for i in range(1,11,1):\n",
        "  print(i)\n",
        "  total = total+i\n",
        "print(\"총합계는 \",total,\"입니다.\")"
      ],
      "metadata": {
        "colab": {
          "base_uri": "https://localhost:8080/"
        },
        "id": "T4_UoB0RqzOQ",
        "outputId": "99e9043e-459f-48a4-c691-bd9b5bc5c809"
      },
      "execution_count": 16,
      "outputs": [
        {
          "output_type": "stream",
          "name": "stdout",
          "text": [
            "1\n",
            "2\n",
            "3\n",
            "4\n",
            "5\n",
            "6\n",
            "7\n",
            "8\n",
            "9\n",
            "10\n",
            "총합계는  55 입니다.\n"
          ]
        }
      ]
    },
    {
      "cell_type": "code",
      "source": [
        "alist=[]\n",
        "for i in range(1,11,1):\n",
        "  alist.append(1)\n",
        "print(alist)"
      ],
      "metadata": {
        "colab": {
          "base_uri": "https://localhost:8080/"
        },
        "id": "IclO5Uw_rQS-",
        "outputId": "f4f43aeb-bd83-4999-e0ce-738fe6d832cf"
      },
      "execution_count": 17,
      "outputs": [
        {
          "output_type": "stream",
          "name": "stdout",
          "text": [
            "[1, 1, 1, 1, 1, 1, 1, 1, 1, 1]\n"
          ]
        }
      ]
    },
    {
      "cell_type": "code",
      "source": [
        "sale=[7,8,9,10]\n",
        "for s in sale:\n",
        "  print(\"오늘의 판매 가격은\", (s*500), \"원입니다.\")"
      ],
      "metadata": {
        "colab": {
          "base_uri": "https://localhost:8080/"
        },
        "id": "WnXCUYLetXdF",
        "outputId": "7b32af0c-3855-4994-9abe-9e851a4c3552"
      },
      "execution_count": 20,
      "outputs": [
        {
          "output_type": "stream",
          "name": "stdout",
          "text": [
            "오늘의 판매 가격은 3500 원입니다.\n",
            "오늘의 판매 가격은 4000 원입니다.\n",
            "오늘의 판매 가격은 4500 원입니다.\n",
            "오늘의 판매 가격은 5000 원입니다.\n"
          ]
        }
      ]
    },
    {
      "cell_type": "code",
      "source": [
        "sale=[7,8,9,10]\n",
        "pay=[]\n",
        "for i in sale:\n",
        "  total=i*500\n",
        "  pay.append(total)\n",
        "pay"
      ],
      "metadata": {
        "colab": {
          "base_uri": "https://localhost:8080/"
        },
        "id": "0EMV6JWouzOP",
        "outputId": "870d9642-e2e1-4953-ceae-42e69b3ee495"
      },
      "execution_count": 24,
      "outputs": [
        {
          "output_type": "execute_result",
          "data": {
            "text/plain": [
              "[3500, 4000, 4500, 5000]"
            ]
          },
          "metadata": {},
          "execution_count": 24
        }
      ]
    }
  ]
}
