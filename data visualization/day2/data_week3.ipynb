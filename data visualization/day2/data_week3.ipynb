{
  "nbformat": 4,
  "nbformat_minor": 0,
  "metadata": {
    "colab": {
      "provenance": []
    },
    "kernelspec": {
      "name": "python3",
      "display_name": "Python 3"
    },
    "language_info": {
      "name": "python"
    }
  },
  "cells": [
    {
      "cell_type": "code",
      "source": [
        "score = 50\n",
        "if score >70:\n",
        "  print(\"합격입니다\")"
      ],
      "metadata": {
        "id": "2WqBArsQpmZF"
      },
      "execution_count": 9,
      "outputs": []
    },
    {
      "cell_type": "code",
      "source": [
        "score = 90\n",
        "if score >70:\n",
        "  print(\"합격입니다\")\n",
        "else:\n",
        "  print(\"불합격입니다\")"
      ],
      "metadata": {
        "colab": {
          "base_uri": "https://localhost:8080/"
        },
        "id": "qNUwfF3_qKFL",
        "outputId": "cf37de65-7423-4efe-b6d9-c55f28499798"
      },
      "execution_count": 11,
      "outputs": [
        {
          "output_type": "stream",
          "name": "stdout",
          "text": [
            "합격입니다\n"
          ]
        }
      ]
    },
    {
      "cell_type": "code",
      "source": [
        "score = 75\n",
        "if score>=90:\n",
        "  print(\"A\")\n",
        "elif score>=80:\n",
        "  print(\"B\")\n",
        "elif score>=70:\n",
        "  print(\"C\")\n",
        "else:\n",
        "  print(\"F\")"
      ],
      "metadata": {
        "colab": {
          "base_uri": "https://localhost:8080/"
        },
        "id": "4gqaBDshrAQB",
        "outputId": "9a914dbf-d840-4e5a-dcea-f4a023233778"
      },
      "execution_count": 13,
      "outputs": [
        {
          "output_type": "stream",
          "name": "stdout",
          "text": [
            "C\n"
          ]
        }
      ]
    },
    {
      "cell_type": "code",
      "source": [
        "score = int(input(\"점수를 입력하세요.\"))\n",
        "if score>=90:\n",
        "  print(\"A\")\n",
        "elif score>=80:\n",
        "  print(\"B\")\n",
        "elif score>=70:\n",
        "  print(\"C\")\n",
        "else:\n",
        "  print(\"F\")"
      ],
      "metadata": {
        "colab": {
          "base_uri": "https://localhost:8080/"
        },
        "id": "wa_s_JnlsEV8",
        "outputId": "9fb46d56-dab2-4af0-8c0d-8ff8f314be68"
      },
      "execution_count": 16,
      "outputs": [
        {
          "output_type": "stream",
          "name": "stdout",
          "text": [
            "점수를 입력하세요.85\n",
            "B\n"
          ]
        }
      ]
    },
    {
      "cell_type": "code",
      "source": [
        "name = input(\"이름을 입력하세요 : \")\n",
        "year = int(input(\"태어난 해를 입력하세요 : \"))\n",
        "\n",
        "if 2025-year >= 19:\n",
        "  print(name, \"님은 성년입니다. 입장하세요.\")\n",
        "else:\n",
        "  print(name, \"님은 미성년입니다. 입장할 수 없습니다.\")"
      ],
      "metadata": {
        "colab": {
          "base_uri": "https://localhost:8080/"
        },
        "id": "7jznlFrjs_oF",
        "outputId": "e39cbcd7-d3be-40c3-9edc-218b98310f7d"
      },
      "execution_count": 18,
      "outputs": [
        {
          "output_type": "stream",
          "name": "stdout",
          "text": [
            "이름을 입력하세요 : 홍길동\n",
            "태어난 해를 입력하세요 : 1997\n",
            "홍길동 님은 성년입니다. 입장하세요.\n"
          ]
        }
      ]
    },
    {
      "cell_type": "code",
      "source": [
        "name = input(\"이름을 입력하세요 : \")\n",
        "year = int(input(\"태어난 해를 입력하세요 : \"))\n",
        "age = 2025-year\n",
        "if age >= 19:\n",
        "  print(name, \"님은\", age, \"세로 성년입니다. 입장하세요.\")"
      ],
      "metadata": {
        "colab": {
          "base_uri": "https://localhost:8080/"
        },
        "id": "9jrAXWyduNpR",
        "outputId": "5281c7d9-f234-4173-f0f5-e41d2856ba15"
      },
      "execution_count": 20,
      "outputs": [
        {
          "output_type": "stream",
          "name": "stdout",
          "text": [
            "이름을 입력하세요 : 홍길동\n",
            "태어난 해를 입력하세요 : 1997\n",
            "홍길동 님은 28 세로 성년입니다. 입장하세요.\n"
          ]
        }
      ]
    },
    {
      "cell_type": "code",
      "source": [
        "name = input(\"이름을 입력하세요 : \")\n",
        "year = int(input(\"태어난 해를 입력하세요 : \"))\n",
        "age = 2025-year\n",
        "if age >= 19:\n",
        "  print(\"%s님은 %d세로 성년입니다. 입장하세요.\" %(name, age))"
      ],
      "metadata": {
        "colab": {
          "base_uri": "https://localhost:8080/"
        },
        "id": "7dQatHFVvE42",
        "outputId": "ea5a9dbf-06cf-45f1-d9fd-a9b5fa1a8fc0"
      },
      "execution_count": 23,
      "outputs": [
        {
          "output_type": "stream",
          "name": "stdout",
          "text": [
            "이름을 입력하세요 : 홍길동\n",
            "태어난 해를 입력하세요 : 1997\n",
            "홍길동님은 28세로 성년입니다. 입장하세요.\n"
          ]
        }
      ]
    },
    {
      "cell_type": "code",
      "source": [
        "name = input(\"이름을 입력하세요 : \")\n",
        "year = int(input(\"태어난 해를 입력하세요 : \"))\n",
        "age = 2025-year\n",
        "if age >= 19:\n",
        "  print(f\"{name}님은 {age}세로 성년입니다. 입장하세요.\")"
      ],
      "metadata": {
        "colab": {
          "base_uri": "https://localhost:8080/"
        },
        "id": "CJ5Zr-hGv0Xs",
        "outputId": "d67cd440-ee25-46e1-d7c4-82a6d436b77b"
      },
      "execution_count": 24,
      "outputs": [
        {
          "output_type": "stream",
          "name": "stdout",
          "text": [
            "이름을 입력하세요 : 홍길동\n",
            "태어난 해를 입력하세요 : 1997\n",
            "홍길동님은 28세로 성년입니다. 입장하세요.\n"
          ]
        }
      ]
    },
    {
      "cell_type": "code",
      "source": [
        "name = input(\"이름을 입력하세요 : \")\n",
        "year = int(input(\"태어난 해를 입력하세요 : \"))\n",
        "age = 2025-year\n",
        "if age >= 19:\n",
        "  print(\"{}님은 {}세로 성년입니다.\".format(name, age))"
      ],
      "metadata": {
        "colab": {
          "base_uri": "https://localhost:8080/"
        },
        "id": "0X8uwsMfwdJD",
        "outputId": "6b641863-9820-4806-9274-ca875dc802c5"
      },
      "execution_count": 25,
      "outputs": [
        {
          "output_type": "stream",
          "name": "stdout",
          "text": [
            "이름을 입력하세요 : 홍길동\n",
            "태어난 해를 입력하세요 : 1997\n",
            "홍길동님은 28세로 성년입니다.\n"
          ]
        }
      ]
    },
    {
      "cell_type": "code",
      "source": [
        "temp = int(input(\"기온을 입력하세요 : \"))\n",
        "print(\"오늘 기온은 영상 %d입니다.\"%temp)\n",
        "\n",
        "if temp < 24:\n",
        "  print(\"긴바지를 입으세요.\")\n",
        "  if temp < 10:\n",
        "    print(\"외투를 입으세요.\")\n",
        "else:\n",
        "  print(\"반바지를 입으세요.\")"
      ],
      "metadata": {
        "colab": {
          "base_uri": "https://localhost:8080/"
        },
        "id": "JKEIj3YLw5MJ",
        "outputId": "69a9d484-e0ef-4c15-c181-c196ba71361e"
      },
      "execution_count": 27,
      "outputs": [
        {
          "output_type": "stream",
          "name": "stdout",
          "text": [
            "기온을 입력하세요 : 5\n",
            "오늘 기온은 영상 5입니다.\n",
            "긴바지를 입으세요.\n",
            "외투를 입으세요.\n"
          ]
        }
      ]
    },
    {
      "cell_type": "code",
      "execution_count": 12,
      "metadata": {
        "colab": {
          "base_uri": "https://localhost:8080/"
        },
        "id": "bwVBjx98l43P",
        "outputId": "b24f3209-2af1-478d-db38-ac4e4e91736b"
      },
      "outputs": [
        {
          "output_type": "stream",
          "name": "stdout",
          "text": [
            "먹고 싶은 게 있어요?김밥\n",
            "주문 가능합니다\n"
          ]
        }
      ],
      "source": [
        "menu = ['김밥','튀김','만두','떡볶이']\n",
        "order = input(\"먹고 싶은 게 있어요?\")\n",
        "\n",
        "if order in menu:\n",
        "  print(\"주문 가능합니다\")\n",
        "else:\n",
        "  print(\"주문할 수 없습니다.\")"
      ]
    },
    {
      "cell_type": "code",
      "source": [
        "number = [3,7,4,5,2]\n",
        "i=0\n",
        "for num in number:\n",
        "  i = i+1\n",
        "  if num%2 == 0:\n",
        "    print(\"%d번째 숫자는 짝수입니다.\"%i)\n",
        "  else:\n",
        "    print(\"%d번째 숫자는 홀수입니다.\"%i)"
      ],
      "metadata": {
        "colab": {
          "base_uri": "https://localhost:8080/"
        },
        "id": "jx4Nfe1Z5axI",
        "outputId": "15821ad1-3756-4608-e4e4-8ad6d1e91cee"
      },
      "execution_count": 34,
      "outputs": [
        {
          "output_type": "stream",
          "name": "stdout",
          "text": [
            "1번째 숫자는 홀수입니다.\n",
            "2번째 숫자는 홀수입니다.\n",
            "3번째 숫자는 짝수입니다.\n",
            "4번째 숫자는 홀수입니다.\n",
            "5번째 숫자는 짝수입니다.\n"
          ]
        }
      ]
    },
    {
      "cell_type": "code",
      "source": [
        "number = [3,7,4,5,2]\n",
        "i=0\n",
        "for num in number:\n",
        "  i=i+1\n",
        "  if num%2==0:\n",
        "    print(\"{}번째 숫자는 {}(으)로 짝수입니다.\".format(i, num))\n",
        "  else:\n",
        "    print(\"{}번째 숫자는 {}(으)로 홀수입니다.\".format(i, num))"
      ],
      "metadata": {
        "colab": {
          "base_uri": "https://localhost:8080/"
        },
        "id": "cM3d1V1p5xGN",
        "outputId": "a008a663-198a-4d42-9169-ea3dc695bd65"
      },
      "execution_count": 35,
      "outputs": [
        {
          "output_type": "stream",
          "name": "stdout",
          "text": [
            "1번째 숫자는 3(으)로 홀수입니다.\n",
            "2번째 숫자는 7(으)로 홀수입니다.\n",
            "3번째 숫자는 4(으)로 짝수입니다.\n",
            "4번째 숫자는 5(으)로 홀수입니다.\n",
            "5번째 숫자는 2(으)로 짝수입니다.\n"
          ]
        }
      ]
    },
    {
      "cell_type": "code",
      "source": [
        "score = [90,50,80,60,70]\n",
        "passed = []\n",
        "\n",
        "for s in score:\n",
        "  if s >= 70:\n",
        "    passed.append(s)\n",
        "print(\"passed = \",passed)"
      ],
      "metadata": {
        "colab": {
          "base_uri": "https://localhost:8080/"
        },
        "id": "qLWVu8wn8HxI",
        "outputId": "540e409d-d3c0-472e-a895-efa2f070d8c3"
      },
      "execution_count": 3,
      "outputs": [
        {
          "output_type": "stream",
          "name": "stdout",
          "text": [
            "passed =  [90, 80, 70]\n"
          ]
        }
      ]
    },
    {
      "cell_type": "code",
      "source": [
        "n = 1\n",
        "while True:\n",
        "  print(n, \"번째 출력합니다.\")\n",
        "  n = n + 1\n",
        "  if n > 10 :\n",
        "    break"
      ],
      "metadata": {
        "colab": {
          "base_uri": "https://localhost:8080/"
        },
        "id": "TVUlOGFlSeM6",
        "outputId": "845160ae-58a5-44a5-8c05-7cd6841008e7"
      },
      "execution_count": 1,
      "outputs": [
        {
          "output_type": "stream",
          "name": "stdout",
          "text": [
            "1 번째 출력합니다.\n",
            "2 번째 출력합니다.\n",
            "3 번째 출력합니다.\n",
            "4 번째 출력합니다.\n",
            "5 번째 출력합니다.\n",
            "6 번째 출력합니다.\n",
            "7 번째 출력합니다.\n",
            "8 번째 출력합니다.\n",
            "9 번째 출력합니다.\n",
            "10 번째 출력합니다.\n"
          ]
        }
      ]
    },
    {
      "cell_type": "code",
      "source": [
        "while True:\n",
        "  menus = [\"김밥\", \"튀김\", \"만두\", \"떡볶이\"]\n",
        "  order = input(\"먹고 싶은 게 있어요?\")\n",
        "  if order in menus:\n",
        "    print(\"주문 가능합니다.\")\n",
        "  else:\n",
        "    print(\"주문할 수 없습니다.\")\n",
        "  if order == \"0\":\n",
        "    print(\"프로그램을 종료합니다.\")\n",
        "    break"
      ],
      "metadata": {
        "colab": {
          "base_uri": "https://localhost:8080/"
        },
        "id": "Pq0CN436SlSe",
        "outputId": "cd3f5492-f326-4b8e-a64d-a1abd4c1f1b3"
      },
      "execution_count": 3,
      "outputs": [
        {
          "output_type": "stream",
          "name": "stdout",
          "text": [
            "먹고 싶은 게 있어요?김밥\n",
            "주문 가능합니다.\n",
            "먹고 싶은 게 있어요?만두\n",
            "주문 가능합니다.\n",
            "먹고 싶은 게 있어요?초밥\n",
            "주문할 수 없습니다.\n",
            "먹고 싶은 게 있어요?0\n",
            "주문할 수 없습니다.\n",
            "프로그램을 종료합니다.\n"
          ]
        }
      ]
    }
  ]
}
